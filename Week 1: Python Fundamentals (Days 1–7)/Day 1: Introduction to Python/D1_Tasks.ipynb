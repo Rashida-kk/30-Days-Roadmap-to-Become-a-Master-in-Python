{
  "nbformat": 4,
  "nbformat_minor": 0,
  "metadata": {
    "colab": {
      "provenance": []
    },
    "kernelspec": {
      "name": "python3",
      "display_name": "Python 3"
    },
    "language_info": {
      "name": "python"
    }
  },
  "cells": [
    {
      "cell_type": "code",
      "execution_count": 1,
      "metadata": {
        "colab": {
          "base_uri": "https://localhost:8080/"
        },
        "id": "tBTHhN1-q77g",
        "outputId": "d78ad4d4-8776-4804-893d-445330739cd4"
      },
      "outputs": [
        {
          "output_type": "stream",
          "name": "stdout",
          "text": [
            "hello world\n"
          ]
        }
      ],
      "source": [
        "#print hello world\n",
        "a = \"hello world\"\n",
        "print(a)"
      ]
    },
    {
      "cell_type": "code",
      "source": [
        "name = \"Alex\"    # name = variables\n",
        "print(name)         # Alex = values"
      ],
      "metadata": {
        "colab": {
          "base_uri": "https://localhost:8080/"
        },
        "id": "0n1p5OlvsC3W",
        "outputId": "2edcfbb0-e2ce-48f9-99aa-ecfefa8bacc4"
      },
      "execution_count": 3,
      "outputs": [
        {
          "output_type": "stream",
          "name": "stdout",
          "text": [
            "Alex\n"
          ]
        }
      ]
    },
    {
      "cell_type": "code",
      "source": [
        "#Simple Calculator\n",
        "\n",
        "num1 = float(input(\"Enter first number: \"))\n",
        "operator = input(\"Enter operator (+,-,*,/): \")\n",
        "num2 = float(input(\"Enter second number: \"))\n",
        "\n",
        "if operator == \"+\":\n",
        "  result = num1 +num2\n",
        "elif operator == \"-\":\n",
        "  result = num1 - num2\n",
        "elif operator == \"*\":\n",
        "  result = num1 * num2\n",
        "elif operator == \"/\":\n",
        "  if num2 != 0:\n",
        "    result == num1 / num2\n",
        "  else:\n",
        "    result = \"Error: Division by zero\"\n",
        "else:\n",
        "  result = \"Error: Invalid operator\"\n",
        "\n",
        "print(\"Result:\", result)\n",
        "\n",
        "\n",
        "\n"
      ],
      "metadata": {
        "colab": {
          "base_uri": "https://localhost:8080/"
        },
        "id": "3zbRrUZYsLGj",
        "outputId": "74128a39-8eed-49c1-a99d-4d90833b602f"
      },
      "execution_count": 4,
      "outputs": [
        {
          "output_type": "stream",
          "name": "stdout",
          "text": [
            "Enter first number: 35\n",
            "Enter operator (+,-,*,/): +\n",
            "Enter second number: 4\n",
            "Result: 39.0\n"
          ]
        }
      ]
    }
  ]
}