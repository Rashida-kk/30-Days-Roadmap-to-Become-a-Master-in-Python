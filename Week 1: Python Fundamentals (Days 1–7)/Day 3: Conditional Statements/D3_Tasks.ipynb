{
  "nbformat": 4,
  "nbformat_minor": 0,
  "metadata": {
    "colab": {
      "provenance": []
    },
    "kernelspec": {
      "name": "python3",
      "display_name": "Python 3"
    },
    "language_info": {
      "name": "python"
    }
  },
  "cells": [
    {
      "cell_type": "markdown",
      "source": [
        "Here's a simple BMI (Body Mass Index) calculator using Python's conditional statements (if, elif, else):\n",
        "\n",
        "Task: Build a BMI Calculator\n",
        "\n",
        "The BMI formula:\n",
        "\n",
        "𝐵\n",
        "𝑀\n",
        "𝐼\n",
        "=\n",
        "weight (kg)\n",
        "/height (m)\n",
        "2\n",
        "\n",
        "\n",
        "Categories:\n",
        "\n",
        "Underweight: BMI < 18.5\n",
        "\n",
        "Normal weight: 18.5 ≤ BMI < 24.9\n",
        "\n",
        "Overweight: 25 ≤ BMI < 29.9\n",
        "\n",
        "Obese: BMI ≥ 30"
      ],
      "metadata": {
        "id": "wLeNUYnNNn1-"
      }
    },
    {
      "cell_type": "code",
      "source": [
        "weight = float(input(\"Enter your weight in kilograms: \"))\n",
        "height = float(input(\"Enter your height in meters: \"))\n",
        "bmi = weight / (height ** 2)\n",
        "\n",
        "if bmi < 18.5:\n",
        "    category = \"Underweight\"\n",
        "elif 18.5 <= bmi < 24.9:\n",
        "    category = \"Normal weight\"\n",
        "elif 25 <= bmi < 29.9:\n",
        "    category = \"Overweight\"\n",
        "else:\n",
        "    category = \"Obese\"\n",
        "\n",
        "print(f\"Your BMI is {bmi:.2f}. You are classified as {category}\")"
      ],
      "metadata": {
        "id": "MWlbAbwmrz7J",
        "colab": {
          "base_uri": "https://localhost:8080/"
        },
        "outputId": "2c4294b8-4a82-4719-d8a0-d668caf304ec"
      },
      "execution_count": 16,
      "outputs": [
        {
          "output_type": "stream",
          "name": "stdout",
          "text": [
            "Enter your weight in kilograms: 52\n",
            "Enter your height in meters: 1.67\n",
            "Your BMI is 18.65. You are classified as Normal weight\n"
          ]
        }
      ]
    },
    {
      "cell_type": "code",
      "source": [],
      "metadata": {
        "id": "t7QfMtrUrz3-"
      },
      "execution_count": null,
      "outputs": []
    },
    {
      "cell_type": "code",
      "source": [],
      "metadata": {
        "id": "GXHYDRTwrz1e"
      },
      "execution_count": null,
      "outputs": []
    },
    {
      "cell_type": "code",
      "source": [],
      "metadata": {
        "id": "9e6U-CN3rzyl"
      },
      "execution_count": null,
      "outputs": []
    }
  ]
}