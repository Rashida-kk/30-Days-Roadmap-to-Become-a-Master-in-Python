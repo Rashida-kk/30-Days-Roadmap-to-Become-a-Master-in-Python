{
  "nbformat": 4,
  "nbformat_minor": 0,
  "metadata": {
    "colab": {
      "provenance": []
    },
    "kernelspec": {
      "name": "python3",
      "display_name": "Python 3"
    },
    "language_info": {
      "name": "python"
    }
  },
  "cells": [
    {
      "cell_type": "markdown",
      "source": [
        "\n",
        "\n",
        "Print multiplication tables using loops."
      ],
      "metadata": {
        "id": "m7Aq6e2VJRj5"
      }
    },
    {
      "cell_type": "code",
      "source": [
        "#Using while loop\n",
        "\n",
        "Number = int(input (\"Enter the number to print the multiplication table: \"))\n",
        "print(f\"multiplication table of {Number}\")\n",
        "x = 1\n",
        "while x <= 10 :\n",
        "  print(f\"{Number} * {x} = {Number * x}\")\n",
        "  x += 1"
      ],
      "metadata": {
        "id": "9e6U-CN3rzyl",
        "colab": {
          "base_uri": "https://localhost:8080/"
        },
        "outputId": "45c530d9-5122-40f9-8704-5036a742649c"
      },
      "execution_count": 5,
      "outputs": [
        {
          "output_type": "stream",
          "name": "stdout",
          "text": [
            "Enter the number to print the multiplication table: 5\n",
            "multiplication table of 5\n",
            "5 * 1 = 5\n",
            "5 * 2 = 10\n",
            "5 * 3 = 15\n",
            "5 * 4 = 20\n",
            "5 * 5 = 25\n",
            "5 * 6 = 30\n",
            "5 * 7 = 35\n",
            "5 * 8 = 40\n",
            "5 * 9 = 45\n",
            "5 * 10 = 50\n"
          ]
        }
      ]
    },
    {
      "cell_type": "code",
      "source": [
        "#using for loop\n",
        "\n",
        "Number = int(input (\"Enter the number to print the multiplication table: \"))\n",
        "print(f\"multiplication table of {Number}\")\n",
        "\n",
        "for x in range(1,11):\n",
        "    print(f\"{Number} * {x} = {Number * x}\")"
      ],
      "metadata": {
        "colab": {
          "base_uri": "https://localhost:8080/"
        },
        "id": "-hZu8wdRPyDm",
        "outputId": "9625f1ec-160f-4f6a-d77e-6d1614da2e6c"
      },
      "execution_count": 6,
      "outputs": [
        {
          "output_type": "stream",
          "name": "stdout",
          "text": [
            "Enter the number to print the multiplication table: 9\n",
            "multiplication table of 9\n",
            "9 * 1 = 9\n",
            "9 * 2 = 18\n",
            "9 * 3 = 27\n",
            "9 * 4 = 36\n",
            "9 * 5 = 45\n",
            "9 * 6 = 54\n",
            "9 * 7 = 63\n",
            "9 * 8 = 72\n",
            "9 * 9 = 81\n",
            "9 * 10 = 90\n"
          ]
        }
      ]
    },
    {
      "cell_type": "code",
      "source": [
        "#using nested loop\n",
        "\n",
        "Number = int(input(\"Enter the number to print the multiplication table: \"))\n",
        "print(f\"Multiplication table of {Number}:\\n\")\n",
        "\n",
        "for i in range(1, Number + 1):  # Outer loop (loops through numbers up to 'Number')\n",
        "    print(f\"\\nMultiplication Table of {i}\")\n",
        "\n",
        "    for x in range(1, 11):  # Inner loop (for multiplication from 1 to 10)\n",
        "        print(f\"{i} * {x} = {i * x}\")\n"
      ],
      "metadata": {
        "colab": {
          "base_uri": "https://localhost:8080/"
        },
        "id": "CosawlqURXG_",
        "outputId": "cdb97b52-2eab-4a1e-c92b-022ce0220380"
      },
      "execution_count": 7,
      "outputs": [
        {
          "output_type": "stream",
          "name": "stdout",
          "text": [
            "Enter the number to print the multiplication table: 6\n",
            "Multiplication table of 6:\n",
            "\n",
            "\n",
            "Multiplication Table of 1\n",
            "1 * 1 = 1\n",
            "1 * 2 = 2\n",
            "1 * 3 = 3\n",
            "1 * 4 = 4\n",
            "1 * 5 = 5\n",
            "1 * 6 = 6\n",
            "1 * 7 = 7\n",
            "1 * 8 = 8\n",
            "1 * 9 = 9\n",
            "1 * 10 = 10\n",
            "\n",
            "Multiplication Table of 2\n",
            "2 * 1 = 2\n",
            "2 * 2 = 4\n",
            "2 * 3 = 6\n",
            "2 * 4 = 8\n",
            "2 * 5 = 10\n",
            "2 * 6 = 12\n",
            "2 * 7 = 14\n",
            "2 * 8 = 16\n",
            "2 * 9 = 18\n",
            "2 * 10 = 20\n",
            "\n",
            "Multiplication Table of 3\n",
            "3 * 1 = 3\n",
            "3 * 2 = 6\n",
            "3 * 3 = 9\n",
            "3 * 4 = 12\n",
            "3 * 5 = 15\n",
            "3 * 6 = 18\n",
            "3 * 7 = 21\n",
            "3 * 8 = 24\n",
            "3 * 9 = 27\n",
            "3 * 10 = 30\n",
            "\n",
            "Multiplication Table of 4\n",
            "4 * 1 = 4\n",
            "4 * 2 = 8\n",
            "4 * 3 = 12\n",
            "4 * 4 = 16\n",
            "4 * 5 = 20\n",
            "4 * 6 = 24\n",
            "4 * 7 = 28\n",
            "4 * 8 = 32\n",
            "4 * 9 = 36\n",
            "4 * 10 = 40\n",
            "\n",
            "Multiplication Table of 5\n",
            "5 * 1 = 5\n",
            "5 * 2 = 10\n",
            "5 * 3 = 15\n",
            "5 * 4 = 20\n",
            "5 * 5 = 25\n",
            "5 * 6 = 30\n",
            "5 * 7 = 35\n",
            "5 * 8 = 40\n",
            "5 * 9 = 45\n",
            "5 * 10 = 50\n",
            "\n",
            "Multiplication Table of 6\n",
            "6 * 1 = 6\n",
            "6 * 2 = 12\n",
            "6 * 3 = 18\n",
            "6 * 4 = 24\n",
            "6 * 5 = 30\n",
            "6 * 6 = 36\n",
            "6 * 7 = 42\n",
            "6 * 8 = 48\n",
            "6 * 9 = 54\n",
            "6 * 10 = 60\n"
          ]
        }
      ]
    },
    {
      "cell_type": "code",
      "source": [],
      "metadata": {
        "id": "z3p-POE_Sigi"
      },
      "execution_count": null,
      "outputs": []
    }
  ]
}