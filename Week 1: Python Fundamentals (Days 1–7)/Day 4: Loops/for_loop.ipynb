{
  "nbformat": 4,
  "nbformat_minor": 0,
  "metadata": {
    "colab": {
      "provenance": []
    },
    "kernelspec": {
      "name": "python3",
      "display_name": "Python 3"
    },
    "language_info": {
      "name": "python"
    }
  },
  "cells": [
    {
      "cell_type": "code",
      "source": [
        "m = int(input(\"Enter the starting number: \"))\n",
        "n = int(input(\"Enter the ending number: \"))\n",
        "z = int(input(\"Enter the number devided by: \"))\n",
        "for i in range(m,n):\n",
        "  if i % z == 0:\n",
        "    print(i)\n"
      ],
      "metadata": {
        "colab": {
          "base_uri": "https://localhost:8080/"
        },
        "id": "cgY_zWtXPRn5",
        "outputId": "18d982c4-c28e-4b89-b4b9-fab381fb5819"
      },
      "execution_count": null,
      "outputs": [
        {
          "output_type": "stream",
          "name": "stdout",
          "text": [
            "Enter the starting number: 1\n",
            "Enter the ending number: 20\n",
            "Enter the number devided by: 4\n",
            "4\n",
            "8\n",
            "12\n",
            "16\n"
          ]
        }
      ]
    },
    {
      "cell_type": "code",
      "execution_count": null,
      "metadata": {
        "colab": {
          "base_uri": "https://localhost:8080/"
        },
        "id": "lgn4HAFlO_lE",
        "outputId": "6ef00749-a5cb-430e-b140-1306628023ec"
      },
      "outputs": [
        {
          "output_type": "stream",
          "name": "stdout",
          "text": [
            "4\n",
            "8\n",
            "12\n",
            "16\n"
          ]
        }
      ],
      "source": [
        "for i in range(1, 20):\n",
        "  if i % 4 == 0:\n",
        "    print(i)"
      ]
    },
    {
      "cell_type": "code",
      "source": [
        "vowels = {\"a\",\"e\",\"i\",\"o\",\"u\"}\n",
        "word = input(\"Enter a word:\")\n",
        "\n",
        "\n",
        "for i in word:\n",
        "  if i in vowels:\n",
        "    print(f\"Number of vowels in word:\",len(i))\n"
      ],
      "metadata": {
        "id": "3loRvDztPMbP",
        "colab": {
          "base_uri": "https://localhost:8080/"
        },
        "outputId": "8c062458-8b58-45c5-9017-e8c9cba1b899"
      },
      "execution_count": 7,
      "outputs": [
        {
          "output_type": "stream",
          "name": "stdout",
          "text": [
            "Enter a word:python\n",
            "Number of vowels in word: 1\n"
          ]
        }
      ]
    },
    {
      "cell_type": "code",
      "source": [
        "vowels = \"aeiou\"\n",
        "word = input(\"Enter a word:\")\n",
        "\n",
        "count = 0\n",
        "for i in word:\n",
        "  if i in vowels:\n",
        "    count += 1\n",
        "print(f\"number of vowels in {word} is {count}\")"
      ],
      "metadata": {
        "colab": {
          "base_uri": "https://localhost:8080/"
        },
        "id": "csnfN9XmyOZs",
        "outputId": "e635b268-b766-4d09-c926-869b147de7a2"
      },
      "execution_count": 10,
      "outputs": [
        {
          "output_type": "stream",
          "name": "stdout",
          "text": [
            "Enter a word:education\n",
            "number of vowels in education is 5\n"
          ]
        }
      ]
    },
    {
      "cell_type": "code",
      "source": [
        "fibonacci_series = []\n",
        "\n",
        "for num in range(0, 10):\n",
        "  if num ==0 :\n",
        "    fibonacci_series.append(num)\n",
        "  elif num == 1:\n",
        "    fibonacci_series.append(num)\n",
        "  else:\n",
        "    fibonacci_series.append(fibonacci_series[num-1] + fibonacci_series[num-2])\n",
        "print(fibonacci_series)\n",
        "\n",
        "\n",
        "\n",
        "\n"
      ],
      "metadata": {
        "colab": {
          "base_uri": "https://localhost:8080/"
        },
        "id": "3_sxeUBr0STH",
        "outputId": "7b148b27-89d5-4f50-83c8-825a48eac26b"
      },
      "execution_count": 11,
      "outputs": [
        {
          "output_type": "stream",
          "name": "stdout",
          "text": [
            "[0, 1, 1, 2, 3, 5, 8, 13, 21, 34]\n"
          ]
        }
      ]
    },
    {
      "cell_type": "code",
      "source": [
        "a = 0\n",
        "b = 1\n",
        "print(a,b, end=\" \")\n",
        "\n",
        "for _ in range(8):\n",
        "  next_number = a + b\n",
        "  print(next_number, end=\" \")\n",
        "  a , b = b, next_number\n"
      ],
      "metadata": {
        "colab": {
          "base_uri": "https://localhost:8080/"
        },
        "id": "SJCSVP3q2eYH",
        "outputId": "0c5a5ab3-3e9c-4cc2-d5ae-b1c37b80e677"
      },
      "execution_count": 13,
      "outputs": [
        {
          "output_type": "stream",
          "name": "stdout",
          "text": [
            "0 1 1 2 3 5 8 13 21 34 "
          ]
        }
      ]
    },
    {
      "cell_type": "code",
      "source": [
        "#factorial\n",
        "x = int(input(\"Enter a number: \"))\n",
        "total = 1\n",
        "\n",
        "for i in range(1, x):\n",
        "\n",
        "  total *= (i+1)\n",
        "  x += 1\n",
        "print(\"factorial of\", x , \"is\", total)"
      ],
      "metadata": {
        "colab": {
          "base_uri": "https://localhost:8080/"
        },
        "id": "vMRG-Js760mK",
        "outputId": "f00bc7cd-8686-4201-dd78-5cd2f53312c6"
      },
      "execution_count": 36,
      "outputs": [
        {
          "output_type": "stream",
          "name": "stdout",
          "text": [
            "Enter a number: 10\n",
            "factorial of 19 is 3628800\n"
          ]
        }
      ]
    },
    {
      "cell_type": "code",
      "source": [
        "# check number is prime or not\n",
        "num = 7\n",
        "is_prime = True\n",
        "\n",
        "if num < 2:\n",
        "  is_prime = False\n",
        "else:\n",
        "  for i in range(2, num):\n",
        "    if num % i == 0:\n",
        "      is_prime = False\n",
        "      break\n",
        "  print(f\"{num} is {'prime' if is_prime and num > 1 else 'not prime'}\")"
      ],
      "metadata": {
        "colab": {
          "base_uri": "https://localhost:8080/"
        },
        "id": "EQ4G8-Xd95Xt",
        "outputId": "a7e7df8d-0c5f-4abe-8d3e-35f6d6594b54"
      },
      "execution_count": 49,
      "outputs": [
        {
          "output_type": "stream",
          "name": "stdout",
          "text": [
            "7 is prime\n"
          ]
        }
      ]
    },
    {
      "cell_type": "code",
      "source": [
        "# more effective\n",
        "num = 7\n",
        "is_prime = True\n",
        "\n",
        "for i in range(2, int(num** 0.5) + 1):\n",
        "  if num % i == 0:\n",
        "    is_prime = False\n",
        "    break\n",
        "\n",
        "if is_prime and num > 1:\n",
        "  print(f\"{num} is prime\")\n",
        "else:\n",
        "  print(f\"{num} is not prime\")"
      ],
      "metadata": {
        "colab": {
          "base_uri": "https://localhost:8080/"
        },
        "id": "fVe3byiM-IDd",
        "outputId": "ca71f235-8635-45d3-cc92-9d6d053a1a43"
      },
      "execution_count": 48,
      "outputs": [
        {
          "output_type": "stream",
          "name": "stdout",
          "text": [
            "7 is prime\n"
          ]
        }
      ]
    },
    {
      "cell_type": "code",
      "source": [],
      "metadata": {
        "id": "keKGF_puH1_B"
      },
      "execution_count": null,
      "outputs": []
    }
  ]
}