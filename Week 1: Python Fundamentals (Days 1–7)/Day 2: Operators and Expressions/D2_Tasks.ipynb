{
  "nbformat": 4,
  "nbformat_minor": 0,
  "metadata": {
    "colab": {
      "provenance": []
    },
    "kernelspec": {
      "name": "python3",
      "display_name": "Python 3"
    },
    "language_info": {
      "name": "python"
    }
  },
  "cells": [
    {
      "cell_type": "markdown",
      "source": [
        "###Create a program to calculate simple interest.\n",
        "\n",
        "Formula for Simple Interest:\n",
        "\n",
        "𝑆\n",
        "𝐼\n",
        "=\n",
        "(𝑃\n",
        "×\n",
        "𝑅\n",
        "×\n",
        "𝑇)\n",
        "/100\n",
        "​\n",
        "\n",
        "Where:\n",
        "\n",
        "P = Principal amount\n",
        "\n",
        "R = Rate of interest per annum\n",
        "\n",
        "T = Time in years\n"
      ],
      "metadata": {
        "id": "dYW7X7iJsg19"
      }
    },
    {
      "cell_type": "code",
      "source": [
        "P = float(input(\"Enter the principal amount: \"))\n",
        "R = float(input(\"Enter the rate of interest: \"))\n",
        "T = float(input(\"Enter the time in years: \"))\n",
        "\n",
        "SI = (P * R * T) / 100\n",
        "\n",
        "print(\"The simple interest is: \", SI)"
      ],
      "metadata": {
        "colab": {
          "base_uri": "https://localhost:8080/"
        },
        "id": "wK9LmRZrr0A3",
        "outputId": "555c2e7a-f517-459d-95f9-bcaa93670817"
      },
      "execution_count": 1,
      "outputs": [
        {
          "output_type": "stream",
          "name": "stdout",
          "text": [
            "Enter the principal amount: 1345\n",
            "Enter the rate of interest: 234.87\n",
            "Enter the time in years: 4\n",
            "The simple interest is:  12636.006000000001\n"
          ]
        }
      ]
    },
    {
      "cell_type": "code",
      "source": [],
      "metadata": {
        "id": "pfnrIgclrz-C"
      },
      "execution_count": null,
      "outputs": []
    },
    {
      "cell_type": "code",
      "source": [],
      "metadata": {
        "id": "MWlbAbwmrz7J"
      },
      "execution_count": null,
      "outputs": []
    },
    {
      "cell_type": "code",
      "source": [],
      "metadata": {
        "id": "t7QfMtrUrz3-"
      },
      "execution_count": null,
      "outputs": []
    },
    {
      "cell_type": "code",
      "source": [],
      "metadata": {
        "id": "GXHYDRTwrz1e"
      },
      "execution_count": null,
      "outputs": []
    },
    {
      "cell_type": "code",
      "source": [],
      "metadata": {
        "id": "9e6U-CN3rzyl"
      },
      "execution_count": null,
      "outputs": []
    }
  ]
}